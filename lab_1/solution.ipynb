{
 "cells": [
  {
   "cell_type": "markdown",
   "id": "192350d2-b083-43cc-87e5-e696882d4e6b",
   "metadata": {},
   "source": [
    "### Pre-run"
   ]
  },
  {
   "cell_type": "code",
   "execution_count": 1,
   "id": "02492ec2-040f-4f46-9326-e53b39c2e1cd",
   "metadata": {},
   "outputs": [],
   "source": [
    "import csv\n",
    "\n",
    "encoding = 'Windows-1251'\n",
    "table_name = 'books.csv'"
   ]
  },
  {
   "cell_type": "markdown",
   "id": "3684af0c-20ba-41ef-aff7-fa666ceef1e6",
   "metadata": {},
   "source": [
    "### Task 1"
   ]
  },
  {
   "cell_type": "code",
   "execution_count": 2,
   "id": "95debf61-f132-4950-90a8-ed35f16dd8e0",
   "metadata": {},
   "outputs": [
    {
     "name": "stdout",
     "output_type": "stream",
     "text": [
      "9409\n"
     ]
    }
   ],
   "source": [
    "with open(table_name, 'r', encoding=encoding) as csvfile:\n",
    "    books = csv.reader(csvfile, delimiter=';')\n",
    "    next(books)  # skips first row with column names\n",
    "\n",
    "    lines_count = 0\n",
    "    for book in books:\n",
    "        lines_count += 1\n",
    "    print(lines_count)"
   ]
  },
  {
   "cell_type": "markdown",
   "id": "1733fc30-9985-4cdb-9d9f-094f509504fb",
   "metadata": {},
   "source": [
    "### Task 2"
   ]
  },
  {
   "cell_type": "code",
   "execution_count": 3,
   "id": "3ef3e76c-8ccc-4b73-b0b7-c716090f7fbb",
   "metadata": {},
   "outputs": [
    {
     "name": "stdout",
     "output_type": "stream",
     "text": [
      "2933\n"
     ]
    }
   ],
   "source": [
    "with open(table_name, 'r', encoding=encoding) as csvfile:\n",
    "    books = csv.reader(csvfile, delimiter=';')\n",
    "    next(books)\n",
    "\n",
    "    books_count = 0\n",
    "    for book in books:\n",
    "        if len(book[1]) > 30:\n",
    "            books_count += 1\n",
    "    print(books_count)"
   ]
  },
  {
   "cell_type": "markdown",
   "id": "3023acb7-dab8-4297-8c76-69a12c22ba6e",
   "metadata": {},
   "source": [
    "### Task 3"
   ]
  },
  {
   "cell_type": "code",
   "execution_count": 4,
   "id": "8447cfd3-748f-4fc1-8bc0-502f67375b60",
   "metadata": {},
   "outputs": [
    {
     "name": "stdin",
     "output_type": "stream",
     "text": [
      "Search for:  Пушкин\n"
     ]
    },
    {
     "name": "stdout",
     "output_type": "stream",
     "text": [
      "570425 «Медный всадник» и другие произведения в исполнении мастеров художественного слова, Price: 80.0\n",
      "175837 Арап Петра Великого, Price: 0.0\n",
      "21119014 Барышня-крестьянка, Price: 0.0\n",
      "22973050 Брак холостит душу (сборник), Price: 0.0\n",
      "175838 Гости съезжались на дачу…, Price: 0.0\n",
      "173015 Граф Нулин, Price: 0.0\n",
      "175832 Домик в Коломне, Price: 0.0\n",
      "171965 Дубровский, Price: 0.0\n",
      "171965 Дубровский, Price: 0.0\n",
      "171965 Дубровский, Price: 0.0\n",
      "171966 Евгений Онегин, Price: 0.0\n",
      "24779363 Евгений Онегин, Price: 0.0\n",
      "175839 Египетские ночи, Price: 0.0\n",
      "175833 Езерский, Price: 0.0\n",
      "175849 Записки Моро-де-Бразе, Price: 0.0\n",
      "175850 История Петра, Price: 0.0\n",
      "175851 История Пугачева, Price: 0.0\n",
      "450915 История пугачевского бунта. Исторические материалы, Price: 0.0\n",
      "175840 История села Горюхина, Price: 0.0\n",
      "173027 Каменный гость, Price: 0.0\n",
      "171967 Капитанская дочка, Price: 0.0\n",
      "175841 Кирджали, Price: 0.0\n",
      "148102 Маленькие трагедии, Price: 0.0\n",
      "175842 Марья Шонинг, Price: 0.0\n",
      "171973 Медный всадник, Price: 0.0\n",
      "22139010 Метель, Price: 0.0\n",
      "173026 Моцарт и Сальери, Price: 0.0\n",
      "3933935 Отрывки из романа «Евгений Онегин», Price: 0.0\n",
      "171968 Пиковая дама, Price: 0.0\n",
      "27609334 Пиковая дама (сборник), Price: 0.0\n",
      "173028 Пир во время чумы, Price: 0.0\n",
      "171969 Повести Белкина, Price: 0.0\n",
      "175844 Повесть из римской жизни, Price: 0.0\n",
      "545425 Полное собрание сочинений. Том 1, Price: 0.0\n",
      "554035 Полное собрание сочинений. Том 14, Price: 0.0\n",
      "175852 Полное собрание стихотворений, Price: 0.0\n",
      "171970 Полтава, Price: 0.0\n",
      "171970 Полтава, Price: 0.0\n",
      "175846 Роман в письмах, Price: 0.0\n",
      "175847 Рославлев, Price: 0.0\n",
      "175835 Русалка, Price: 0.0\n",
      "171971 Руслан и Людмила, Price: 0.0\n",
      "173018 Сказка о золотом петушке, Price: 0.0\n",
      "175848 Сказка о медведихе, Price: 0.0\n",
      "173019 Сказка о мертвой царевне и о семи богатырях, Price: 0.0\n",
      "3933955 Сказка о мертвой царевне и о семи богатырях, Price: 0.0\n",
      "4970519 Сказка о рыбаке и рыбке, Price: 0.0\n",
      "3933975 Сказка о царе Салтане, о сыне его славном и могучем богатыре князе Гвидоне Салтановиче и о прекрасной царевне Лебеди, Price: 0.0\n",
      "25101100 Сказки. Руслан и Людмила (сборник), Price: 0.0\n",
      "477465 Сочинения и письма, Price: 0.0\n",
      "462825 Сочинения. Издание Императорской Академии Наук. Том 1, Price: 0.0\n",
      "462835 Сочинения. Издание Императорской Академии Наук. Том 2, Price: 0.0\n",
      "462735 Сочинения. Том 1, Price: 0.0\n",
      "4970516 Стихотворения, Price: 0.0\n",
      "175836 Сцены из рыцарских времен, Price: 0.0\n",
      "175834 Тазит, Price: 0.0\n"
     ]
    }
   ],
   "source": [
    "result_empty = True\n",
    "\n",
    "search_query = input('Search for: ')\n",
    "search_query = search_query.lower().strip()\n",
    "\n",
    "with open(table_name, 'r', encoding=encoding) as csvfile:\n",
    "    books = csv.reader(csvfile, delimiter=';')\n",
    "    next(books)\n",
    "\n",
    "    for book in books:\n",
    "        book_author = book[4].lower()\n",
    "        book_price = float(book[7])\n",
    "        result_index = book_author.find(search_query)\n",
    "\n",
    "        if result_index != -1 and book_price < 150:\n",
    "            result_empty = False\n",
    "\n",
    "            print(f'{book[0]} {book[1]}, Price: {book_price}')\n",
    "\n",
    "    if result_empty:\n",
    "        print('Nothing found')"
   ]
  },
  {
   "cell_type": "markdown",
   "id": "210d54cd-c860-4d26-8aa8-1dc7287bc22d",
   "metadata": {},
   "source": [
    "### Task 4"
   ]
  },
  {
   "cell_type": "code",
   "execution_count": 5,
   "id": "cf2d1579-3db1-498e-9c68-c9dde3d6c925",
   "metadata": {},
   "outputs": [],
   "source": [
    "result = []\n",
    "\n",
    "with open(table_name, 'r', encoding=encoding) as csvfile:\n",
    "    books = csv.reader(csvfile, delimiter=';')\n",
    "    next(books)\n",
    "\n",
    "    for book in books:\n",
    "        if len(result) == 20:\n",
    "            break\n",
    "\n",
    "        book_year = book[6][book[6].rfind('.') + 1:].split()[0]\n",
    "        result.append(f'{book[3]}. {book[1]} - {book_year}')\n",
    "\n",
    "result = [\n",
    "    f'{index + 1}. {book}'\n",
    "    for index, book in enumerate(result)\n",
    "]\n",
    "\n",
    "with open('result.txt', 'w') as output_file:\n",
    "    output_file.write('\\n'.join(result))"
   ]
  },
  {
   "cell_type": "markdown",
   "id": "ca1e48ef-3de3-4dac-b3f4-1f1a05895969",
   "metadata": {},
   "source": [
    "### Additional Task 1"
   ]
  },
  {
   "cell_type": "code",
   "execution_count": 6,
   "id": "c1064214-c249-4723-acf4-0f535455189f",
   "metadata": {},
   "outputs": [],
   "source": [
    "uniq_genres = set()\n",
    "\n",
    "with open(table_name, 'r', encoding=encoding) as csvfile:\n",
    "    books = csv.reader(csvfile, delimiter=';')\n",
    "    next(books)\n",
    "\n",
    "    for book in books:\n",
    "        uniq_genres.update(book[-1][1:].split('# '))\n",
    "\n",
    "with open('uniq_genres.txt', 'w') as file:\n",
    "    file.write('\\n'.join(uniq_genres))"
   ]
  },
  {
   "cell_type": "markdown",
   "id": "4cd8f6ec-bc6f-474e-a9a0-7f0d2855ae63",
   "metadata": {},
   "source": [
    "### Additional Task 2"
   ]
  },
  {
   "cell_type": "code",
   "execution_count": 7,
   "id": "a9605ed9-df94-4eba-9b0f-afd885f7ee1c",
   "metadata": {},
   "outputs": [],
   "source": [
    "class Book:\n",
    "    def __init__(self, isbn=None, popularity=0, title=None):\n",
    "        self.isbn = isbn.strip()\n",
    "        self.popularity = int(popularity)\n",
    "        self.title = title\n",
    "\n",
    "    def __repr__(self):\n",
    "        return f'{self.isbn}. {self.title}. Кол-во выдач: {self.popularity}'\n",
    "\n",
    "most_popular = []\n",
    "\n",
    "with open(table_name, 'r', encoding=encoding) as csvfile:\n",
    "    books = csv.reader(csvfile, delimiter=';')\n",
    "    next(books)\n",
    "\n",
    "    for book in books:\n",
    "        if not most_popular:\n",
    "            most_popular.append(Book(isbn=book[0], popularity=book[8], title=book[1]))\n",
    "\n",
    "        book = Book(isbn=book[0], popularity=book[8], title=book[1])\n",
    "\n",
    "        if book.popularity < most_popular[-1].popularity:\n",
    "            continue\n",
    "\n",
    "        for index, popular_book in enumerate(most_popular):\n",
    "            if popular_book.popularity < book.popularity:\n",
    "                most_popular.insert(index + 1, book)\n",
    "                if len(most_popular) > 21:\n",
    "                    most_popular = most_popular[:-1]\n",
    "\n",
    "with open('most_popular.txt', 'w') as file:\n",
    "    file.write('\\n'.join(map(str, most_popular[1:])))"
   ]
  },
  {
   "cell_type": "code",
   "execution_count": null,
   "id": "3af682e8-ef7c-458a-ae65-63d4324df651",
   "metadata": {},
   "outputs": [],
   "source": []
  }
 ],
 "metadata": {
  "kernelspec": {
   "display_name": "Python 3 (ipykernel)",
   "language": "python",
   "name": "python3"
  },
  "language_info": {
   "codemirror_mode": {
    "name": "ipython",
    "version": 3
   },
   "file_extension": ".py",
   "mimetype": "text/x-python",
   "name": "python",
   "nbconvert_exporter": "python",
   "pygments_lexer": "ipython3",
   "version": "3.10.6"
  }
 },
 "nbformat": 4,
 "nbformat_minor": 5
}
